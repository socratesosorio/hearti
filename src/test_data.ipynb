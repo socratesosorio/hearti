{
 "cells": [
  {
   "cell_type": "code",
   "execution_count": 1,
   "metadata": {},
   "outputs": [],
   "source": [
    "import nibabel as nib"
   ]
  },
  {
   "cell_type": "code",
   "execution_count": 10,
   "metadata": {},
   "outputs": [
    {
     "name": "stdout",
     "output_type": "stream",
     "text": [
      "Image shape: (127, 207, 141)\n"
     ]
    }
   ],
   "source": [
    "path = \"/Users/ethantam/Desktop/personalCS/heartAI/data/cropped/pat0_cropped_seg.nii.gz\"\n",
    "# path = \"/Users/ethantam/Desktop/personalCS/heartAI/data/cropped/pat0_cropped_seg_endpoints.nii.gz\"\n",
    "\n",
    "# Load the NIfTI file\n",
    "nii_img = nib.load(path)\n",
    "\n",
    "# Get the image data as a NumPy array\n",
    "image_data = nii_img.get_fdata()\n",
    "\n",
    "# Print shape of the data\n",
    "print(\"Image shape:\", image_data.shape)"
   ]
  },
  {
   "cell_type": "code",
   "execution_count": 11,
   "metadata": {},
   "outputs": [
    {
     "data": {
      "image/png": "[encoded data removed]",
      "text/plain": [
       "<Figure size 432x288 with 2 Axes>"
      ]
     },
     "metadata": {
      "needs_background": "light"
     },
     "output_type": "display_data"
    }
   ],
   "source": [
    "import matplotlib.pyplot as plt\n",
    "\n",
    "# Display the middle slice along the z-axis\n",
    "plt.imshow(image_data[:, :, image_data.shape[2] // 2], cmap=\"gray\")\n",
    "plt.colorbar()\n",
    "plt.show()"
   ]
  },
  {
   "cell_type": "code",
   "execution_count": 16,
   "metadata": {},
   "outputs": [
    {
     "name": "stdout",
     "output_type": "stream",
     "text": [
      "GIF saved as output.gif\n"
     ]
    }
   ],
   "source": [
    "import nibabel as nib\n",
    "import numpy as np\n",
    "import imageio\n",
    "import matplotlib.pyplot as plt\n",
    "\n",
    "# Load the NIfTI file\n",
    "path = \"/Users/ethantam/Desktop/personalCS/heartAI/data/cropped/pat2_cropped_seg.nii.gz\"\n",
    "# path = \"/Users/ethantam/Desktop/personalCS/heartAI/data/cropped/pat0_cropped_seg_endpoints.nii.gz\"\n",
    "nii_img = nib.load(path)\n",
    "image_data = nii_img.get_fdata()\n",
    "\n",
    "# Normalize the image for better contrast\n",
    "image_data = (image_data - np.min(image_data)) / (np.max(image_data) - np.min(image_data)) * 255\n",
    "image_data = image_data.astype(np.uint8)\n",
    "\n",
    "# Set GIF filename\n",
    "gif_filename = \"output.gif\"\n",
    "\n",
    "# Create a list to store frames\n",
    "frames = []\n",
    "\n",
    "# Iterate over slices in the z-axis\n",
    "for i in range(image_data.shape[2]):\n",
    "    fig, ax = plt.subplots(figsize=(5, 5))\n",
    "    ax.imshow(image_data[:, :, i], cmap=\"gray\")\n",
    "    ax.axis(\"off\")\n",
    "    \n",
    "    # Save the frame to a temporary buffer\n",
    "    fig.canvas.draw()\n",
    "    frame = np.array(fig.canvas.renderer.buffer_rgba())[:, :, :3]  # Convert to RGB\n",
    "    frames.append(frame)\n",
    "    \n",
    "    plt.close(fig)  # Close the figure to save memory\n",
    "\n",
    "# Save as GIF\n",
    "imageio.mimsave(gif_filename, frames, duration=0.1)  # Adjust duration as needed\n",
    "\n",
    "print(f\"GIF saved as {gif_filename}\")\n"
   ]
  },
  {
   "cell_type": "code",
   "execution_count": null,
   "metadata": {},
   "outputs": [],
   "source": []
  }
 ],
 "metadata": {
  "kernelspec": {
   "display_name": "base",
   "language": "python",
   "name": "python3"
  },
  "language_info": {
   "codemirror_mode": {
    "name": "ipython",
    "version": 3
   },
   "file_extension": ".py",
   "mimetype": "text/x-python",
   "name": "python",
   "nbconvert_exporter": "python",
   "pygments_lexer": "ipython3",
   "version": "3.9.12"
  }
 },
 "nbformat": 4,
 "nbformat_minor": 2
}
